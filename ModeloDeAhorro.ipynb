{
 "cells": [
  {
   "cell_type": "markdown",
   "metadata": {},
   "source": [
    "> \n",
    "    - Simple\n",
    "    - Compuesto\n",
    "    - Continuo\n"
   ]
  },
  {
   "cell_type": "code",
   "execution_count": 1,
   "metadata": {},
   "outputs": [],
   "source": [
    "# interes, i, C0, capital inicial, k, periodos\n",
    "def intSimpleCapital(capital, periodos, interes):\n",
    "    return capital * (1 + periodos * interes)"
   ]
  },
  {
   "cell_type": "code",
   "execution_count": 2,
   "metadata": {},
   "outputs": [],
   "source": [
    "import numpy as np\n",
    "import matplotlib.pyplot as plt\n",
    "%matplotlib inline"
   ]
  },
  {
   "cell_type": "code",
   "execution_count": 3,
   "metadata": {},
   "outputs": [],
   "source": [
    "listaDeInteres = [.05,.1, .15, .2, .5]"
   ]
  },
  {
   "cell_type": "code",
   "execution_count": 5,
   "metadata": {},
   "outputs": [
    {
     "name": "stdout",
     "output_type": "stream",
     "text": [
      "16000.0 22000.0 28000.0 34000.0 70000.0 "
     ]
    }
   ],
   "source": [
    "# capital = 10000\n",
    "periodos = 12\n",
    "for interes in listaDeInteres:   \n",
    "    print(intSimpleCapital(10000, periodos, interes), end = \" \")"
   ]
  },
  {
   "cell_type": "code",
   "execution_count": 11,
   "metadata": {},
   "outputs": [
    {
     "data": {
      "image/png": "[encoded data removed]",
      "text/plain": [
       "<Figure size 288x144 with 1 Axes>"
      ]
     },
     "metadata": {},
     "output_type": "display_data"
    }
   ],
   "source": [
    "periodos = [3, 6, 12, 18]\n",
    "colores = [\"black\", \"red\", \"blue\", \"orange\"]\n",
    "plt.figure(figsize = (4,2))\n",
    "for indx, periodo in enumerate(periodos):\n",
    "    for interes in listaDeInteres:   \n",
    "        capitalx = intSimpleCapital(10000, periodo, interes)\n",
    "        plt.scatter([periodo], [capitalx], color = colores[indx], s = 5)"
   ]
  },
  {
   "cell_type": "code",
   "execution_count": 12,
   "metadata": {},
   "outputs": [],
   "source": [
    "def intCompuestoCapital(capital, periodos, interes):\n",
    "    return capital * (1 +  interes)**periodos"
   ]
  },
  {
   "cell_type": "code",
   "execution_count": 13,
   "metadata": {},
   "outputs": [
    {
     "name": "stdout",
     "output_type": "stream",
     "text": [
      "17958.5632602213 31384.283767210032 53502.50105473706 89161.00448255996 1297463.37890625 "
     ]
    }
   ],
   "source": [
    "periodos = 12\n",
    "for interes in listaDeInteres:   \n",
    "    print(intCompuestoCapital(10000, periodos, interes), end = \" \")"
   ]
  },
  {
   "cell_type": "code",
   "execution_count": 14,
   "metadata": {},
   "outputs": [
    {
     "data": {
      "image/png": "[encoded data removed]",
      "text/plain": [
       "<Figure size 288x144 with 1 Axes>"
      ]
     },
     "metadata": {},
     "output_type": "display_data"
    }
   ],
   "source": [
    "periodos = [3, 6, 12, 18]\n",
    "colores = [\"black\", \"red\", \"blue\", \"orange\"]\n",
    "plt.figure(figsize = (4,2))\n",
    "for indx, periodo in enumerate(periodos):\n",
    "    for interes in listaDeInteres:   \n",
    "        capitalx = intCompuestoCapital(10000, periodo, interes)\n",
    "        plt.scatter([periodo], [capitalx], color = colores[indx], s = 5)"
   ]
  },
  {
   "cell_type": "code",
   "execution_count": null,
   "metadata": {},
   "outputs": [],
   "source": [
    "C = c0 (1 + i)**periodos"
   ]
  },
  {
   "cell_type": "code",
   "execution_count": null,
   "metadata": {},
   "outputs": [],
   "source": [
    "log(C/ c0) = log((1+i)**periodos)\n",
    "= peridos * log(1 +i)"
   ]
  },
  {
   "cell_type": "code",
   "execution_count": null,
   "metadata": {},
   "outputs": [],
   "source": [
    "periodos = log(C/c0)/log(1 + i)"
   ]
  },
  {
   "cell_type": "code",
   "execution_count": 15,
   "metadata": {},
   "outputs": [],
   "source": [
    "import numpy as np\n",
    "def periodosC(capital, meta, interes):\n",
    "    return np.log(meta/capital) / np.log(1 + interes)"
   ]
  },
  {
   "cell_type": "code",
   "execution_count": 18,
   "metadata": {},
   "outputs": [
    {
     "data": {
      "text/plain": [
       "81.29558565292038"
      ]
     },
     "execution_count": 18,
     "metadata": {},
     "output_type": "execute_result"
    }
   ],
   "source": [
    "periodosC(1000, 1500, .005)"
   ]
  },
  {
   "cell_type": "code",
   "execution_count": 19,
   "metadata": {},
   "outputs": [],
   "source": [
    "def NperComp(c0, ck, interes):\n",
    "    nper = np.log(ck/c0)/np.log(1 + interes)\n",
    "    if (nper - int(nper)) == 0:\n",
    "        return nper\n",
    "    else:\n",
    "        return int(nper) + 1"
   ]
  },
  {
   "cell_type": "code",
   "execution_count": 20,
   "metadata": {},
   "outputs": [
    {
     "data": {
      "text/plain": [
       "82"
      ]
     },
     "execution_count": 20,
     "metadata": {},
     "output_type": "execute_result"
    }
   ],
   "source": [
    "NperComp(1000, 1500, .005)"
   ]
  },
  {
   "cell_type": "code",
   "execution_count": null,
   "metadata": {},
   "outputs": [],
   "source": []
  },
  {
   "cell_type": "code",
   "execution_count": null,
   "metadata": {},
   "outputs": [],
   "source": [
    "def intContinuo():\n",
    "    return "
   ]
  }
 ],
 "metadata": {
  "kernelspec": {
   "display_name": "Python 3",
   "language": "python",
   "name": "python3"
  },
  "language_info": {
   "codemirror_mode": {
    "name": "ipython",
    "version": 3
   },
   "file_extension": ".py",
   "mimetype": "text/x-python",
   "name": "python",
   "nbconvert_exporter": "python",
   "pygments_lexer": "ipython3",
   "version": "3.6.5"
  }
 },
 "nbformat": 4,
 "nbformat_minor": 2
}
